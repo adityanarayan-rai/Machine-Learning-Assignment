{
 "cells": [
  {
   "cell_type": "markdown",
   "id": "7f7a803e-115f-46a0-9686-ec06a87912ad",
   "metadata": {},
   "source": [
    "## Machine Learning - Problem Set 2\n",
    "#### 03/04/2024\n",
    "### Aditya Narayan Rai (235843)"
   ]
  },
  {
   "cell_type": "code",
   "execution_count": 1,
   "id": "0c028dd1-f716-497a-863a-11089c02bf04",
   "metadata": {},
   "outputs": [],
   "source": [
    "# First, let's import the important packages we are going to use for this assignment\n",
    "import numpy as np\n",
    "import pandas as pd\n",
    "import matplotlib.pyplot as plt\n",
    "\n",
    "from sklearn.model_selection import train_test_split, cross_val_score, KFold\n",
    "from sklearn.linear_model import Ridge\n",
    "from sklearn.kernel_ridge import KernelRidge\n",
    "from sklearn.preprocessing import StandardScaler,PolynomialFeatures\n",
    "from sklearn.metrics import mean_squared_error\n",
    "from sklearn.pipeline import make_pipeline\n",
    "from sklearn.impute import SimpleImputer"
   ]
  },
  {
   "cell_type": "code",
   "execution_count": 2,
   "id": "79378d75-0793-4733-9ffb-fca602d1a2de",
   "metadata": {},
   "outputs": [],
   "source": [
    "# Now let's load the dataset we are going to use for this assignment and define X and y\n",
    "url = \"https://raw.githubusercontent.com/grf-labs/grf/master/r-package/grf/vignettes/data/bruhn2016.csv\"\n",
    "df = pd.read_csv(url)\n",
    "X = np.hstack((\n",
    "    df[\"treatment\"].values.reshape(-1, 1),\n",
    "    df.iloc[:, 3:].values\n",
    "))\n",
    "\n",
    "y = df[\"outcome.test.score\"].values"
   ]
  },
  {
   "cell_type": "markdown",
   "id": "ae43da92-aaf3-4724-8c3a-e71b8bb9bbba",
   "metadata": {},
   "source": [
    "**Question 1:** Do some exploratory data analysis on the dataset. What do the variables look like? Is there missingness? What does the distribution of the outcome look like?"
   ]
  },
  {
   "cell_type": "markdown",
   "id": "f2335101-71ff-4e85-a836-909e4f0c07be",
   "metadata": {},
   "source": [
    "**Solution:**"
   ]
  },
  {
   "cell_type": "code",
   "execution_count": 3,
   "id": "d7bb3752-ede7-4735-9052-f20361e848f8",
   "metadata": {},
   "outputs": [
    {
     "name": "stdout",
     "output_type": "stream",
     "text": [
      "(17299, 16)\n"
     ]
    }
   ],
   "source": [
    "# Now, let's check how the dataset looks like\n",
    "print(df.shape)"
   ]
  },
  {
   "cell_type": "code",
   "execution_count": 4,
   "id": "5c13a2af-baae-4275-85bc-1bea00814374",
   "metadata": {},
   "outputs": [
    {
     "data": {
      "text/html": [
       "<div>\n",
       "<style scoped>\n",
       "    .dataframe tbody tr th:only-of-type {\n",
       "        vertical-align: middle;\n",
       "    }\n",
       "\n",
       "    .dataframe tbody tr th {\n",
       "        vertical-align: top;\n",
       "    }\n",
       "\n",
       "    .dataframe thead th {\n",
       "        text-align: right;\n",
       "    }\n",
       "</style>\n",
       "<table border=\"1\" class=\"dataframe\">\n",
       "  <thead>\n",
       "    <tr style=\"text-align: right;\">\n",
       "      <th></th>\n",
       "      <th>outcome.test.score</th>\n",
       "      <th>treatment</th>\n",
       "      <th>school</th>\n",
       "      <th>is.female</th>\n",
       "      <th>mother.attended.secondary.school</th>\n",
       "      <th>father.attened.secondary.school</th>\n",
       "      <th>failed.at.least.one.school.year</th>\n",
       "      <th>family.receives.cash.transfer</th>\n",
       "      <th>has.computer.with.internet.at.home</th>\n",
       "      <th>is.unemployed</th>\n",
       "      <th>has.some.form.of.income</th>\n",
       "      <th>saves.money.for.future.purchases</th>\n",
       "      <th>intention.to.save.index</th>\n",
       "      <th>makes.list.of.expenses.every.month</th>\n",
       "      <th>negotiates.prices.or.payment.methods</th>\n",
       "      <th>financial.autonomy.index</th>\n",
       "    </tr>\n",
       "  </thead>\n",
       "  <tbody>\n",
       "    <tr>\n",
       "      <th>0</th>\n",
       "      <td>47.367374</td>\n",
       "      <td>0</td>\n",
       "      <td>17018390</td>\n",
       "      <td>NaN</td>\n",
       "      <td>NaN</td>\n",
       "      <td>NaN</td>\n",
       "      <td>NaN</td>\n",
       "      <td>NaN</td>\n",
       "      <td>NaN</td>\n",
       "      <td>1.0</td>\n",
       "      <td>1.0</td>\n",
       "      <td>0.0</td>\n",
       "      <td>29.0</td>\n",
       "      <td>0.0</td>\n",
       "      <td>1.0</td>\n",
       "      <td>52.0</td>\n",
       "    </tr>\n",
       "    <tr>\n",
       "      <th>1</th>\n",
       "      <td>58.176758</td>\n",
       "      <td>1</td>\n",
       "      <td>33002614</td>\n",
       "      <td>NaN</td>\n",
       "      <td>NaN</td>\n",
       "      <td>NaN</td>\n",
       "      <td>NaN</td>\n",
       "      <td>NaN</td>\n",
       "      <td>NaN</td>\n",
       "      <td>0.0</td>\n",
       "      <td>0.0</td>\n",
       "      <td>0.0</td>\n",
       "      <td>41.0</td>\n",
       "      <td>0.0</td>\n",
       "      <td>0.0</td>\n",
       "      <td>27.0</td>\n",
       "    </tr>\n",
       "    <tr>\n",
       "      <th>2</th>\n",
       "      <td>56.671661</td>\n",
       "      <td>1</td>\n",
       "      <td>35002914</td>\n",
       "      <td>1.0</td>\n",
       "      <td>1.0</td>\n",
       "      <td>1.0</td>\n",
       "      <td>0.0</td>\n",
       "      <td>0.0</td>\n",
       "      <td>0.0</td>\n",
       "      <td>1.0</td>\n",
       "      <td>0.0</td>\n",
       "      <td>0.0</td>\n",
       "      <td>48.0</td>\n",
       "      <td>0.0</td>\n",
       "      <td>1.0</td>\n",
       "      <td>56.0</td>\n",
       "    </tr>\n",
       "    <tr>\n",
       "      <th>3</th>\n",
       "      <td>29.079376</td>\n",
       "      <td>0</td>\n",
       "      <td>35908915</td>\n",
       "      <td>1.0</td>\n",
       "      <td>0.0</td>\n",
       "      <td>0.0</td>\n",
       "      <td>0.0</td>\n",
       "      <td>0.0</td>\n",
       "      <td>0.0</td>\n",
       "      <td>0.0</td>\n",
       "      <td>0.0</td>\n",
       "      <td>0.0</td>\n",
       "      <td>42.0</td>\n",
       "      <td>0.0</td>\n",
       "      <td>0.0</td>\n",
       "      <td>27.0</td>\n",
       "    </tr>\n",
       "    <tr>\n",
       "      <th>4</th>\n",
       "      <td>49.563534</td>\n",
       "      <td>1</td>\n",
       "      <td>33047324</td>\n",
       "      <td>1.0</td>\n",
       "      <td>0.0</td>\n",
       "      <td>0.0</td>\n",
       "      <td>0.0</td>\n",
       "      <td>0.0</td>\n",
       "      <td>1.0</td>\n",
       "      <td>0.0</td>\n",
       "      <td>1.0</td>\n",
       "      <td>0.0</td>\n",
       "      <td>50.0</td>\n",
       "      <td>0.0</td>\n",
       "      <td>1.0</td>\n",
       "      <td>31.0</td>\n",
       "    </tr>\n",
       "  </tbody>\n",
       "</table>\n",
       "</div>"
      ],
      "text/plain": [
       "   outcome.test.score  treatment    school  is.female  \\\n",
       "0           47.367374          0  17018390        NaN   \n",
       "1           58.176758          1  33002614        NaN   \n",
       "2           56.671661          1  35002914        1.0   \n",
       "3           29.079376          0  35908915        1.0   \n",
       "4           49.563534          1  33047324        1.0   \n",
       "\n",
       "   mother.attended.secondary.school  father.attened.secondary.school  \\\n",
       "0                               NaN                              NaN   \n",
       "1                               NaN                              NaN   \n",
       "2                               1.0                              1.0   \n",
       "3                               0.0                              0.0   \n",
       "4                               0.0                              0.0   \n",
       "\n",
       "   failed.at.least.one.school.year  family.receives.cash.transfer  \\\n",
       "0                              NaN                            NaN   \n",
       "1                              NaN                            NaN   \n",
       "2                              0.0                            0.0   \n",
       "3                              0.0                            0.0   \n",
       "4                              0.0                            0.0   \n",
       "\n",
       "   has.computer.with.internet.at.home  is.unemployed  has.some.form.of.income  \\\n",
       "0                                 NaN            1.0                      1.0   \n",
       "1                                 NaN            0.0                      0.0   \n",
       "2                                 0.0            1.0                      0.0   \n",
       "3                                 0.0            0.0                      0.0   \n",
       "4                                 1.0            0.0                      1.0   \n",
       "\n",
       "   saves.money.for.future.purchases  intention.to.save.index  \\\n",
       "0                               0.0                     29.0   \n",
       "1                               0.0                     41.0   \n",
       "2                               0.0                     48.0   \n",
       "3                               0.0                     42.0   \n",
       "4                               0.0                     50.0   \n",
       "\n",
       "   makes.list.of.expenses.every.month  negotiates.prices.or.payment.methods  \\\n",
       "0                                 0.0                                   1.0   \n",
       "1                                 0.0                                   0.0   \n",
       "2                                 0.0                                   1.0   \n",
       "3                                 0.0                                   0.0   \n",
       "4                                 0.0                                   1.0   \n",
       "\n",
       "   financial.autonomy.index  \n",
       "0                      52.0  \n",
       "1                      27.0  \n",
       "2                      56.0  \n",
       "3                      27.0  \n",
       "4                      31.0  "
      ]
     },
     "execution_count": 4,
     "metadata": {},
     "output_type": "execute_result"
    }
   ],
   "source": [
    "# Now, let's check the first five rows of the dataset\n",
    "df.head()"
   ]
  },
  {
   "cell_type": "code",
   "execution_count": 5,
   "id": "3c0c96bb-5c31-4728-bef3-8dcff4b3e101",
   "metadata": {},
   "outputs": [],
   "source": [
    "# Now, let's drop the 'school' variable, an identifier for schools\n",
    "df = df.drop(columns=['school'])"
   ]
  },
  {
   "cell_type": "code",
   "execution_count": 6,
   "id": "9e4c4e68-3e77-48de-8879-24bbf7f0534d",
   "metadata": {},
   "outputs": [
    {
     "name": "stdout",
     "output_type": "stream",
     "text": [
      "       outcome.test.score     treatment     is.female  \\\n",
      "count        17299.000000  17299.000000  15661.000000   \n",
      "mean            58.415408      0.514134      0.556797   \n",
      "std             14.735654      0.499815      0.496779   \n",
      "min             22.316839      0.000000      0.000000   \n",
      "25%             47.220957      0.000000      0.000000   \n",
      "50%             58.822483      1.000000      1.000000   \n",
      "75%             69.214005      1.000000      1.000000   \n",
      "max            100.000000      1.000000      1.000000   \n",
      "\n",
      "       mother.attended.secondary.school  father.attened.secondary.school  \\\n",
      "count                      15440.000000                     15350.000000   \n",
      "mean                           0.429663                         0.394984   \n",
      "std                            0.495044                         0.488863   \n",
      "min                            0.000000                         0.000000   \n",
      "25%                            0.000000                         0.000000   \n",
      "50%                            0.000000                         0.000000   \n",
      "75%                            1.000000                         1.000000   \n",
      "max                            1.000000                         1.000000   \n",
      "\n",
      "       failed.at.least.one.school.year  family.receives.cash.transfer  \\\n",
      "count                     15386.000000                   15550.000000   \n",
      "mean                          0.288379                       0.343023   \n",
      "std                           0.453023                       0.474734   \n",
      "min                           0.000000                       0.000000   \n",
      "25%                           0.000000                       0.000000   \n",
      "50%                           0.000000                       0.000000   \n",
      "75%                           1.000000                       1.000000   \n",
      "max                           1.000000                       1.000000   \n",
      "\n",
      "       has.computer.with.internet.at.home  is.unemployed  \\\n",
      "count                        15422.000000   16510.000000   \n",
      "mean                             0.546168       0.339915   \n",
      "std                              0.497880       0.473694   \n",
      "min                              0.000000       0.000000   \n",
      "25%                              0.000000       0.000000   \n",
      "50%                              1.000000       0.000000   \n",
      "75%                              1.000000       1.000000   \n",
      "max                              1.000000       1.000000   \n",
      "\n",
      "       has.some.form.of.income  saves.money.for.future.purchases  \\\n",
      "count             16525.000000                      16210.000000   \n",
      "mean                  0.654281                          0.151080   \n",
      "std                   0.475616                          0.358137   \n",
      "min                   0.000000                          0.000000   \n",
      "25%                   0.000000                          0.000000   \n",
      "50%                   1.000000                          0.000000   \n",
      "75%                   1.000000                          0.000000   \n",
      "max                   1.000000                          1.000000   \n",
      "\n",
      "       intention.to.save.index  makes.list.of.expenses.every.month  \\\n",
      "count             15396.000000                        16364.000000   \n",
      "mean                 48.625682                            0.103703   \n",
      "std                  18.639525                            0.304885   \n",
      "min                 -25.000000                            0.000000   \n",
      "25%                  36.000000                            0.000000   \n",
      "50%                  49.000000                            0.000000   \n",
      "75%                  62.000000                            0.000000   \n",
      "max                 100.000000                            1.000000   \n",
      "\n",
      "       negotiates.prices.or.payment.methods  financial.autonomy.index  \n",
      "count                          16237.000000              15363.000000  \n",
      "mean                               0.759561                 49.289071  \n",
      "std                                0.427363                 19.619816  \n",
      "min                                0.000000                -33.000000  \n",
      "25%                                1.000000                 37.000000  \n",
      "50%                                1.000000                 50.000000  \n",
      "75%                                1.000000                 62.000000  \n",
      "max                                1.000000                 94.000000  \n"
     ]
    }
   ],
   "source": [
    "# Now, let's check the descriptive stats of the variables\n",
    "print(df.describe())"
   ]
  },
  {
   "cell_type": "code",
   "execution_count": 7,
   "id": "98eea2f1-bf34-4e7a-be85-490f9b409c3f",
   "metadata": {},
   "outputs": [
    {
     "name": "stdout",
     "output_type": "stream",
     "text": [
      "outcome.test.score                         0\n",
      "treatment                                  0\n",
      "is.female                               1638\n",
      "mother.attended.secondary.school        1859\n",
      "father.attened.secondary.school         1949\n",
      "failed.at.least.one.school.year         1913\n",
      "family.receives.cash.transfer           1749\n",
      "has.computer.with.internet.at.home      1877\n",
      "is.unemployed                            789\n",
      "has.some.form.of.income                  774\n",
      "saves.money.for.future.purchases        1089\n",
      "intention.to.save.index                 1903\n",
      "makes.list.of.expenses.every.month       935\n",
      "negotiates.prices.or.payment.methods    1062\n",
      "financial.autonomy.index                1936\n",
      "dtype: int64\n"
     ]
    }
   ],
   "source": [
    "# Now, let's check for missing values in the dataset\n",
    "print(df.isnull().sum())"
   ]
  },
  {
   "cell_type": "markdown",
   "id": "793ab746-ac6b-4351-bc82-8840b5f1dc72",
   "metadata": {},
   "source": [
    "There are quite a few missing values across the observations. Let's keep them as they are, since we will be using 'Simple Imputer' to work with them. It's also notable that there are no missing values in 'outcome.test.score' and 'treatment'."
   ]
  },
  {
   "cell_type": "code",
   "execution_count": 8,
   "id": "46374329-b02a-487a-a281-92a25c7661e4",
   "metadata": {},
   "outputs": [
    {
     "data": {
      "image/png": "[encoded data removed]",
      "text/plain": [
       "<Figure size 640x480 with 1 Axes>"
      ]
     },
     "metadata": {},
     "output_type": "display_data"
    }
   ],
   "source": [
    "# Now let's check the distribution of the outcome variable\n",
    "plt.hist(df['outcome.test.score'], bins=40, edgecolor='k')\n",
    "plt.title('Distribution of Outcome Test Scores')\n",
    "plt.xlabel('Test Score')\n",
    "plt.ylabel('Frequency')\n",
    "plt.show()"
   ]
  },
  {
   "cell_type": "markdown",
   "id": "019cf2f1-20f5-4965-8a52-e797e963b743",
   "metadata": {},
   "source": [
    "**Question 2:** Next, create your training and your test set. For this assignment, we are going to use almost the entire dataset as the **test** set: set aside 90% of the data for this test set. This will make your life easier as we iterate on models. By only training on a small fraction of the data, this process will be a lot faster. Assume that the data is i.i.d. for the purposes of this assignment, so you don't need to do anything special in splitting the data.\n",
    "\n",
    "In the real world, you wouldn't want to have a split like this. It would be more common to have something like 30% of the data in the test set, but the size is usually determined by how accurately you need to know the error properties of your model."
   ]
  },
  {
   "cell_type": "markdown",
   "id": "5aaff56b-62b2-4422-ba65-144fa5734c1b",
   "metadata": {},
   "source": [
    "**Solution:**"
   ]
  },
  {
   "cell_type": "code",
   "execution_count": 9,
   "id": "f351acde-b7b4-40e1-9f4a-c71f14a6dd5d",
   "metadata": {},
   "outputs": [
    {
     "name": "stdout",
     "output_type": "stream",
     "text": [
      "Training set size: 1729\n",
      "Test set size: 15570\n"
     ]
    }
   ],
   "source": [
    "# Let's split the data into training and test sets using the already defined X and y\n",
    "X_train, X_test, y_train, y_test = train_test_split(X, y, test_size=0.9, random_state=42)\n",
    "\n",
    "# Let's check the size of each set to confirm the split\n",
    "print(\"Training set size:\", X_train.shape[0])\n",
    "print(\"Test set size:\", X_test.shape[0])"
   ]
  },
  {
   "cell_type": "markdown",
   "id": "9d3f5f66-4a8c-46d3-9640-5374b11eaa80",
   "metadata": {},
   "source": [
    "**Question 3:** The next task is to define how we're going to (1) impute missing data, (2) standardize the data and (3) fit the model.\n",
    "\n",
    "Write a function that has just one argument: $regularization$ _ $strength$. This function should chain together your imputation strategy ($SimpleImputer$), your standardization strategy ($StandardScaler$) and the model class we want to estimate. In our case, that's $Ridge$ $Regression$! The way you create this chain is through what scikit-learn refers to as a \"Pipeline\". In particular, you should pass each of these instantiated objects into a call to $make$ _ $pipeline$. A function that just standardizes features and runs OLS would like the following:\n",
    "\n",
    "    def create_ols_pipeline():\n",
    "        return make_pipeline(\n",
    "            StandardScaler(),\n",
    "            LinearRegression()\n",
    "        )\n",
    "\n",
    "You may be asking why we're going to the trouble to construct this complicated object instead of just doing it step-by-step by hand. The reason is that we're going to be doing cross-validation, and this vastly simplifies the amout of code you'll need to write, while ensuring sure that you always respect the training/validation split."
   ]
  },
  {
   "cell_type": "markdown",
   "id": "93beaf71-e525-4f29-b278-430a069f8db1",
   "metadata": {},
   "source": [
    "**Solution:**"
   ]
  },
  {
   "cell_type": "code",
   "execution_count": 24,
   "id": "340373d6-8467-4ae3-bb3d-cfe4c0875ebb",
   "metadata": {},
   "outputs": [],
   "source": [
    "def create_ridge_pipeline(regularization_strength):\n",
    "    \"\"\"\n",
    "    Creates a pipeline that imputes missing data, standardizes the data, \n",
    "    and fits a Ridge Regression model.\n",
    "    \n",
    "    Parameters:\n",
    "    - regularization_strength: The regularization strength (alpha) for Ridge Regression.\n",
    "    \n",
    "    Returns:\n",
    "    - A scikit-learn pipeline object that can be used to fit data and make predictions.\n",
    "    \"\"\"\n",
    "    return make_pipeline(\n",
    "        SimpleImputer(missing_values = np.nan, strategy='most_frequent'),\n",
    "        StandardScaler(),\n",
    "        Ridge(alpha=regularization_strength)\n",
    "    )"
   ]
  },
  {
   "cell_type": "markdown",
   "id": "81eacc62-3c68-47bc-b84a-faea35e3e67a",
   "metadata": {},
   "source": [
    "**Question 4:** Using the pipeline you created, fit a ridge regression where the regularization parameter is $alpha$ = 0.1 on the (entire) training set.\n",
    "\n",
    "Fitting and predicting with this pipeline works exactly the same as if you had directly instantiated a $Ridge$ model directly (i.e. the $fit$() and $predict$() methods work just the same.)"
   ]
  },
  {
   "cell_type": "markdown",
   "id": "ab95984a-956e-4893-9860-448e8297b238",
   "metadata": {},
   "source": [
    "**Solution:**"
   ]
  },
  {
   "cell_type": "code",
   "execution_count": 25,
   "id": "669f3c60-a5d5-47d5-9b03-48ed5deb443d",
   "metadata": {},
   "outputs": [
    {
     "data": {
      "text/html": [
       "<style>#sk-container-id-3 {\n",
       "  /* Definition of color scheme common for light and dark mode */\n",
       "  --sklearn-color-text: black;\n",
       "  --sklearn-color-line: gray;\n",
       "  /* Definition of color scheme for unfitted estimators */\n",
       "  --sklearn-color-unfitted-level-0: #fff5e6;\n",
       "  --sklearn-color-unfitted-level-1: #f6e4d2;\n",
       "  --sklearn-color-unfitted-level-2: #ffe0b3;\n",
       "  --sklearn-color-unfitted-level-3: chocolate;\n",
       "  /* Definition of color scheme for fitted estimators */\n",
       "  --sklearn-color-fitted-level-0: #f0f8ff;\n",
       "  --sklearn-color-fitted-level-1: #d4ebff;\n",
       "  --sklearn-color-fitted-level-2: #b3dbfd;\n",
       "  --sklearn-color-fitted-level-3: cornflowerblue;\n",
       "\n",
       "  /* Specific color for light theme */\n",
       "  --sklearn-color-text-on-default-background: var(--sg-text-color, var(--theme-code-foreground, var(--jp-content-font-color1, black)));\n",
       "  --sklearn-color-background: var(--sg-background-color, var(--theme-background, var(--jp-layout-color0, white)));\n",
       "  --sklearn-color-border-box: var(--sg-text-color, var(--theme-code-foreground, var(--jp-content-font-color1, black)));\n",
       "  --sklearn-color-icon: #696969;\n",
       "\n",
       "  @media (prefers-color-scheme: dark) {\n",
       "    /* Redefinition of color scheme for dark theme */\n",
       "    --sklearn-color-text-on-default-background: var(--sg-text-color, var(--theme-code-foreground, var(--jp-content-font-color1, white)));\n",
       "    --sklearn-color-background: var(--sg-background-color, var(--theme-background, var(--jp-layout-color0, #111)));\n",
       "    --sklearn-color-border-box: var(--sg-text-color, var(--theme-code-foreground, var(--jp-content-font-color1, white)));\n",
       "    --sklearn-color-icon: #878787;\n",
       "  }\n",
       "}\n",
       "\n",
       "#sk-container-id-3 {\n",
       "  color: var(--sklearn-color-text);\n",
       "}\n",
       "\n",
       "#sk-container-id-3 pre {\n",
       "  padding: 0;\n",
       "}\n",
       "\n",
       "#sk-container-id-3 input.sk-hidden--visually {\n",
       "  border: 0;\n",
       "  clip: rect(1px 1px 1px 1px);\n",
       "  clip: rect(1px, 1px, 1px, 1px);\n",
       "  height: 1px;\n",
       "  margin: -1px;\n",
       "  overflow: hidden;\n",
       "  padding: 0;\n",
       "  position: absolute;\n",
       "  width: 1px;\n",
       "}\n",
       "\n",
       "#sk-container-id-3 div.sk-dashed-wrapped {\n",
       "  border: 1px dashed var(--sklearn-color-line);\n",
       "  margin: 0 0.4em 0.5em 0.4em;\n",
       "  box-sizing: border-box;\n",
       "  padding-bottom: 0.4em;\n",
       "  background-color: var(--sklearn-color-background);\n",
       "}\n",
       "\n",
       "#sk-container-id-3 div.sk-container {\n",
       "  /* jupyter's `normalize.less` sets `[hidden] { display: none; }`\n",
       "     but bootstrap.min.css set `[hidden] { display: none !important; }`\n",
       "     so we also need the `!important` here to be able to override the\n",
       "     default hidden behavior on the sphinx rendered scikit-learn.org.\n",
       "     See: https://github.com/scikit-learn/scikit-learn/issues/21755 */\n",
       "  display: inline-block !important;\n",
       "  position: relative;\n",
       "}\n",
       "\n",
       "#sk-container-id-3 div.sk-text-repr-fallback {\n",
       "  display: none;\n",
       "}\n",
       "\n",
       "div.sk-parallel-item,\n",
       "div.sk-serial,\n",
       "div.sk-item {\n",
       "  /* draw centered vertical line to link estimators */\n",
       "  background-image: linear-gradient(var(--sklearn-color-text-on-default-background), var(--sklearn-color-text-on-default-background));\n",
       "  background-size: 2px 100%;\n",
       "  background-repeat: no-repeat;\n",
       "  background-position: center center;\n",
       "}\n",
       "\n",
       "/* Parallel-specific style estimator block */\n",
       "\n",
       "#sk-container-id-3 div.sk-parallel-item::after {\n",
       "  content: \"\";\n",
       "  width: 100%;\n",
       "  border-bottom: 2px solid var(--sklearn-color-text-on-default-background);\n",
       "  flex-grow: 1;\n",
       "}\n",
       "\n",
       "#sk-container-id-3 div.sk-parallel {\n",
       "  display: flex;\n",
       "  align-items: stretch;\n",
       "  justify-content: center;\n",
       "  background-color: var(--sklearn-color-background);\n",
       "  position: relative;\n",
       "}\n",
       "\n",
       "#sk-container-id-3 div.sk-parallel-item {\n",
       "  display: flex;\n",
       "  flex-direction: column;\n",
       "}\n",
       "\n",
       "#sk-container-id-3 div.sk-parallel-item:first-child::after {\n",
       "  align-self: flex-end;\n",
       "  width: 50%;\n",
       "}\n",
       "\n",
       "#sk-container-id-3 div.sk-parallel-item:last-child::after {\n",
       "  align-self: flex-start;\n",
       "  width: 50%;\n",
       "}\n",
       "\n",
       "#sk-container-id-3 div.sk-parallel-item:only-child::after {\n",
       "  width: 0;\n",
       "}\n",
       "\n",
       "/* Serial-specific style estimator block */\n",
       "\n",
       "#sk-container-id-3 div.sk-serial {\n",
       "  display: flex;\n",
       "  flex-direction: column;\n",
       "  align-items: center;\n",
       "  background-color: var(--sklearn-color-background);\n",
       "  padding-right: 1em;\n",
       "  padding-left: 1em;\n",
       "}\n",
       "\n",
       "\n",
       "/* Toggleable style: style used for estimator/Pipeline/ColumnTransformer box that is\n",
       "clickable and can be expanded/collapsed.\n",
       "- Pipeline and ColumnTransformer use this feature and define the default style\n",
       "- Estimators will overwrite some part of the style using the `sk-estimator` class\n",
       "*/\n",
       "\n",
       "/* Pipeline and ColumnTransformer style (default) */\n",
       "\n",
       "#sk-container-id-3 div.sk-toggleable {\n",
       "  /* Default theme specific background. It is overwritten whether we have a\n",
       "  specific estimator or a Pipeline/ColumnTransformer */\n",
       "  background-color: var(--sklearn-color-background);\n",
       "}\n",
       "\n",
       "/* Toggleable label */\n",
       "#sk-container-id-3 label.sk-toggleable__label {\n",
       "  cursor: pointer;\n",
       "  display: block;\n",
       "  width: 100%;\n",
       "  margin-bottom: 0;\n",
       "  padding: 0.5em;\n",
       "  box-sizing: border-box;\n",
       "  text-align: center;\n",
       "}\n",
       "\n",
       "#sk-container-id-3 label.sk-toggleable__label-arrow:before {\n",
       "  /* Arrow on the left of the label */\n",
       "  content: \"▸\";\n",
       "  float: left;\n",
       "  margin-right: 0.25em;\n",
       "  color: var(--sklearn-color-icon);\n",
       "}\n",
       "\n",
       "#sk-container-id-3 label.sk-toggleable__label-arrow:hover:before {\n",
       "  color: var(--sklearn-color-text);\n",
       "}\n",
       "\n",
       "/* Toggleable content - dropdown */\n",
       "\n",
       "#sk-container-id-3 div.sk-toggleable__content {\n",
       "  max-height: 0;\n",
       "  max-width: 0;\n",
       "  overflow: hidden;\n",
       "  text-align: left;\n",
       "  /* unfitted */\n",
       "  background-color: var(--sklearn-color-unfitted-level-0);\n",
       "}\n",
       "\n",
       "#sk-container-id-3 div.sk-toggleable__content.fitted {\n",
       "  /* fitted */\n",
       "  background-color: var(--sklearn-color-fitted-level-0);\n",
       "}\n",
       "\n",
       "#sk-container-id-3 div.sk-toggleable__content pre {\n",
       "  margin: 0.2em;\n",
       "  border-radius: 0.25em;\n",
       "  color: var(--sklearn-color-text);\n",
       "  /* unfitted */\n",
       "  background-color: var(--sklearn-color-unfitted-level-0);\n",
       "}\n",
       "\n",
       "#sk-container-id-3 div.sk-toggleable__content.fitted pre {\n",
       "  /* unfitted */\n",
       "  background-color: var(--sklearn-color-fitted-level-0);\n",
       "}\n",
       "\n",
       "#sk-container-id-3 input.sk-toggleable__control:checked~div.sk-toggleable__content {\n",
       "  /* Expand drop-down */\n",
       "  max-height: 200px;\n",
       "  max-width: 100%;\n",
       "  overflow: auto;\n",
       "}\n",
       "\n",
       "#sk-container-id-3 input.sk-toggleable__control:checked~label.sk-toggleable__label-arrow:before {\n",
       "  content: \"▾\";\n",
       "}\n",
       "\n",
       "/* Pipeline/ColumnTransformer-specific style */\n",
       "\n",
       "#sk-container-id-3 div.sk-label input.sk-toggleable__control:checked~label.sk-toggleable__label {\n",
       "  color: var(--sklearn-color-text);\n",
       "  background-color: var(--sklearn-color-unfitted-level-2);\n",
       "}\n",
       "\n",
       "#sk-container-id-3 div.sk-label.fitted input.sk-toggleable__control:checked~label.sk-toggleable__label {\n",
       "  background-color: var(--sklearn-color-fitted-level-2);\n",
       "}\n",
       "\n",
       "/* Estimator-specific style */\n",
       "\n",
       "/* Colorize estimator box */\n",
       "#sk-container-id-3 div.sk-estimator input.sk-toggleable__control:checked~label.sk-toggleable__label {\n",
       "  /* unfitted */\n",
       "  background-color: var(--sklearn-color-unfitted-level-2);\n",
       "}\n",
       "\n",
       "#sk-container-id-3 div.sk-estimator.fitted input.sk-toggleable__control:checked~label.sk-toggleable__label {\n",
       "  /* fitted */\n",
       "  background-color: var(--sklearn-color-fitted-level-2);\n",
       "}\n",
       "\n",
       "#sk-container-id-3 div.sk-label label.sk-toggleable__label,\n",
       "#sk-container-id-3 div.sk-label label {\n",
       "  /* The background is the default theme color */\n",
       "  color: var(--sklearn-color-text-on-default-background);\n",
       "}\n",
       "\n",
       "/* On hover, darken the color of the background */\n",
       "#sk-container-id-3 div.sk-label:hover label.sk-toggleable__label {\n",
       "  color: var(--sklearn-color-text);\n",
       "  background-color: var(--sklearn-color-unfitted-level-2);\n",
       "}\n",
       "\n",
       "/* Label box, darken color on hover, fitted */\n",
       "#sk-container-id-3 div.sk-label.fitted:hover label.sk-toggleable__label.fitted {\n",
       "  color: var(--sklearn-color-text);\n",
       "  background-color: var(--sklearn-color-fitted-level-2);\n",
       "}\n",
       "\n",
       "/* Estimator label */\n",
       "\n",
       "#sk-container-id-3 div.sk-label label {\n",
       "  font-family: monospace;\n",
       "  font-weight: bold;\n",
       "  display: inline-block;\n",
       "  line-height: 1.2em;\n",
       "}\n",
       "\n",
       "#sk-container-id-3 div.sk-label-container {\n",
       "  text-align: center;\n",
       "}\n",
       "\n",
       "/* Estimator-specific */\n",
       "#sk-container-id-3 div.sk-estimator {\n",
       "  font-family: monospace;\n",
       "  border: 1px dotted var(--sklearn-color-border-box);\n",
       "  border-radius: 0.25em;\n",
       "  box-sizing: border-box;\n",
       "  margin-bottom: 0.5em;\n",
       "  /* unfitted */\n",
       "  background-color: var(--sklearn-color-unfitted-level-0);\n",
       "}\n",
       "\n",
       "#sk-container-id-3 div.sk-estimator.fitted {\n",
       "  /* fitted */\n",
       "  background-color: var(--sklearn-color-fitted-level-0);\n",
       "}\n",
       "\n",
       "/* on hover */\n",
       "#sk-container-id-3 div.sk-estimator:hover {\n",
       "  /* unfitted */\n",
       "  background-color: var(--sklearn-color-unfitted-level-2);\n",
       "}\n",
       "\n",
       "#sk-container-id-3 div.sk-estimator.fitted:hover {\n",
       "  /* fitted */\n",
       "  background-color: var(--sklearn-color-fitted-level-2);\n",
       "}\n",
       "\n",
       "/* Specification for estimator info (e.g. \"i\" and \"?\") */\n",
       "\n",
       "/* Common style for \"i\" and \"?\" */\n",
       "\n",
       ".sk-estimator-doc-link,\n",
       "a:link.sk-estimator-doc-link,\n",
       "a:visited.sk-estimator-doc-link {\n",
       "  float: right;\n",
       "  font-size: smaller;\n",
       "  line-height: 1em;\n",
       "  font-family: monospace;\n",
       "  background-color: var(--sklearn-color-background);\n",
       "  border-radius: 1em;\n",
       "  height: 1em;\n",
       "  width: 1em;\n",
       "  text-decoration: none !important;\n",
       "  margin-left: 1ex;\n",
       "  /* unfitted */\n",
       "  border: var(--sklearn-color-unfitted-level-1) 1pt solid;\n",
       "  color: var(--sklearn-color-unfitted-level-1);\n",
       "}\n",
       "\n",
       ".sk-estimator-doc-link.fitted,\n",
       "a:link.sk-estimator-doc-link.fitted,\n",
       "a:visited.sk-estimator-doc-link.fitted {\n",
       "  /* fitted */\n",
       "  border: var(--sklearn-color-fitted-level-1) 1pt solid;\n",
       "  color: var(--sklearn-color-fitted-level-1);\n",
       "}\n",
       "\n",
       "/* On hover */\n",
       "div.sk-estimator:hover .sk-estimator-doc-link:hover,\n",
       ".sk-estimator-doc-link:hover,\n",
       "div.sk-label-container:hover .sk-estimator-doc-link:hover,\n",
       ".sk-estimator-doc-link:hover {\n",
       "  /* unfitted */\n",
       "  background-color: var(--sklearn-color-unfitted-level-3);\n",
       "  color: var(--sklearn-color-background);\n",
       "  text-decoration: none;\n",
       "}\n",
       "\n",
       "div.sk-estimator.fitted:hover .sk-estimator-doc-link.fitted:hover,\n",
       ".sk-estimator-doc-link.fitted:hover,\n",
       "div.sk-label-container:hover .sk-estimator-doc-link.fitted:hover,\n",
       ".sk-estimator-doc-link.fitted:hover {\n",
       "  /* fitted */\n",
       "  background-color: var(--sklearn-color-fitted-level-3);\n",
       "  color: var(--sklearn-color-background);\n",
       "  text-decoration: none;\n",
       "}\n",
       "\n",
       "/* Span, style for the box shown on hovering the info icon */\n",
       ".sk-estimator-doc-link span {\n",
       "  display: none;\n",
       "  z-index: 9999;\n",
       "  position: relative;\n",
       "  font-weight: normal;\n",
       "  right: .2ex;\n",
       "  padding: .5ex;\n",
       "  margin: .5ex;\n",
       "  width: min-content;\n",
       "  min-width: 20ex;\n",
       "  max-width: 50ex;\n",
       "  color: var(--sklearn-color-text);\n",
       "  box-shadow: 2pt 2pt 4pt #999;\n",
       "  /* unfitted */\n",
       "  background: var(--sklearn-color-unfitted-level-0);\n",
       "  border: .5pt solid var(--sklearn-color-unfitted-level-3);\n",
       "}\n",
       "\n",
       ".sk-estimator-doc-link.fitted span {\n",
       "  /* fitted */\n",
       "  background: var(--sklearn-color-fitted-level-0);\n",
       "  border: var(--sklearn-color-fitted-level-3);\n",
       "}\n",
       "\n",
       ".sk-estimator-doc-link:hover span {\n",
       "  display: block;\n",
       "}\n",
       "\n",
       "/* \"?\"-specific style due to the `<a>` HTML tag */\n",
       "\n",
       "#sk-container-id-3 a.estimator_doc_link {\n",
       "  float: right;\n",
       "  font-size: 1rem;\n",
       "  line-height: 1em;\n",
       "  font-family: monospace;\n",
       "  background-color: var(--sklearn-color-background);\n",
       "  border-radius: 1rem;\n",
       "  height: 1rem;\n",
       "  width: 1rem;\n",
       "  text-decoration: none;\n",
       "  /* unfitted */\n",
       "  color: var(--sklearn-color-unfitted-level-1);\n",
       "  border: var(--sklearn-color-unfitted-level-1) 1pt solid;\n",
       "}\n",
       "\n",
       "#sk-container-id-3 a.estimator_doc_link.fitted {\n",
       "  /* fitted */\n",
       "  border: var(--sklearn-color-fitted-level-1) 1pt solid;\n",
       "  color: var(--sklearn-color-fitted-level-1);\n",
       "}\n",
       "\n",
       "/* On hover */\n",
       "#sk-container-id-3 a.estimator_doc_link:hover {\n",
       "  /* unfitted */\n",
       "  background-color: var(--sklearn-color-unfitted-level-3);\n",
       "  color: var(--sklearn-color-background);\n",
       "  text-decoration: none;\n",
       "}\n",
       "\n",
       "#sk-container-id-3 a.estimator_doc_link.fitted:hover {\n",
       "  /* fitted */\n",
       "  background-color: var(--sklearn-color-fitted-level-3);\n",
       "}\n",
       "</style><div id=\"sk-container-id-3\" class=\"sk-top-container\"><div class=\"sk-text-repr-fallback\"><pre>Pipeline(steps=[(&#x27;simpleimputer&#x27;, SimpleImputer(strategy=&#x27;most_frequent&#x27;)),\n",
       "                (&#x27;standardscaler&#x27;, StandardScaler()),\n",
       "                (&#x27;ridge&#x27;, Ridge(alpha=0.1))])</pre><b>In a Jupyter environment, please rerun this cell to show the HTML representation or trust the notebook. <br />On GitHub, the HTML representation is unable to render, please try loading this page with nbviewer.org.</b></div><div class=\"sk-container\" hidden><div class=\"sk-item sk-dashed-wrapped\"><div class=\"sk-label-container\"><div class=\"sk-label fitted sk-toggleable\"><input class=\"sk-toggleable__control sk-hidden--visually\" id=\"sk-estimator-id-9\" type=\"checkbox\" ><label for=\"sk-estimator-id-9\" class=\"sk-toggleable__label fitted sk-toggleable__label-arrow fitted\">&nbsp;&nbsp;Pipeline<a class=\"sk-estimator-doc-link fitted\" rel=\"noreferrer\" target=\"_blank\" href=\"https://scikit-learn.org/1.4/modules/generated/sklearn.pipeline.Pipeline.html\">?<span>Documentation for Pipeline</span></a><span class=\"sk-estimator-doc-link fitted\">i<span>Fitted</span></span></label><div class=\"sk-toggleable__content fitted\"><pre>Pipeline(steps=[(&#x27;simpleimputer&#x27;, SimpleImputer(strategy=&#x27;most_frequent&#x27;)),\n",
       "                (&#x27;standardscaler&#x27;, StandardScaler()),\n",
       "                (&#x27;ridge&#x27;, Ridge(alpha=0.1))])</pre></div> </div></div><div class=\"sk-serial\"><div class=\"sk-item\"><div class=\"sk-estimator fitted sk-toggleable\"><input class=\"sk-toggleable__control sk-hidden--visually\" id=\"sk-estimator-id-10\" type=\"checkbox\" ><label for=\"sk-estimator-id-10\" class=\"sk-toggleable__label fitted sk-toggleable__label-arrow fitted\">&nbsp;SimpleImputer<a class=\"sk-estimator-doc-link fitted\" rel=\"noreferrer\" target=\"_blank\" href=\"https://scikit-learn.org/1.4/modules/generated/sklearn.impute.SimpleImputer.html\">?<span>Documentation for SimpleImputer</span></a></label><div class=\"sk-toggleable__content fitted\"><pre>SimpleImputer(strategy=&#x27;most_frequent&#x27;)</pre></div> </div></div><div class=\"sk-item\"><div class=\"sk-estimator fitted sk-toggleable\"><input class=\"sk-toggleable__control sk-hidden--visually\" id=\"sk-estimator-id-11\" type=\"checkbox\" ><label for=\"sk-estimator-id-11\" class=\"sk-toggleable__label fitted sk-toggleable__label-arrow fitted\">&nbsp;StandardScaler<a class=\"sk-estimator-doc-link fitted\" rel=\"noreferrer\" target=\"_blank\" href=\"https://scikit-learn.org/1.4/modules/generated/sklearn.preprocessing.StandardScaler.html\">?<span>Documentation for StandardScaler</span></a></label><div class=\"sk-toggleable__content fitted\"><pre>StandardScaler()</pre></div> </div></div><div class=\"sk-item\"><div class=\"sk-estimator fitted sk-toggleable\"><input class=\"sk-toggleable__control sk-hidden--visually\" id=\"sk-estimator-id-12\" type=\"checkbox\" ><label for=\"sk-estimator-id-12\" class=\"sk-toggleable__label fitted sk-toggleable__label-arrow fitted\">&nbsp;Ridge<a class=\"sk-estimator-doc-link fitted\" rel=\"noreferrer\" target=\"_blank\" href=\"https://scikit-learn.org/1.4/modules/generated/sklearn.linear_model.Ridge.html\">?<span>Documentation for Ridge</span></a></label><div class=\"sk-toggleable__content fitted\"><pre>Ridge(alpha=0.1)</pre></div> </div></div></div></div></div></div>"
      ],
      "text/plain": [
       "Pipeline(steps=[('simpleimputer', SimpleImputer(strategy='most_frequent')),\n",
       "                ('standardscaler', StandardScaler()),\n",
       "                ('ridge', Ridge(alpha=0.1))])"
      ]
     },
     "execution_count": 25,
     "metadata": {},
     "output_type": "execute_result"
    }
   ],
   "source": [
    "# Let's create the pipeline with alpha = 0.1\n",
    "ridge_pipeline = create_ridge_pipeline(0.1)\n",
    "\n",
    "# Now, let's fFit the pipeline on the entire training set\n",
    "ridge_pipeline.fit(X_train, y_train)"
   ]
  },
  {
   "cell_type": "markdown",
   "id": "e326e215-6997-4a6a-99f8-60e2798e62af",
   "metadata": {},
   "source": [
    "**Question 5:** Use the $KFold$ class to construct a set of 10 folds to be used for cross-validation.\n",
    "\n",
    "We create this ahead of time because we want to use the exact same folds for every value of the hyperparameters (and every model) that we test so that we compare them, apples to apples."
   ]
  },
  {
   "cell_type": "code",
   "execution_count": 26,
   "id": "a3c627cd-6ad0-488c-b7fe-a7e88984c158",
   "metadata": {},
   "outputs": [],
   "source": [
    "# Let's create a set of 10 folds to be used for cross-validation\n",
    "kf = KFold(n_splits = 10, shuffle = True, random_state = 42)"
   ]
  },
  {
   "cell_type": "markdown",
   "id": "fab7c49e-4e54-4058-880b-5f2de4c2dc6c",
   "metadata": {},
   "source": [
    "**Question 6:** Using the training data, use cross-validation to choose a good value of the regularization parameter. You should:\n",
    "\n",
    "- Try a range of different values (e.g. 20 values between $10^{-6}$ and $10^{6}$) and inspect the estimand mean squared error. You'll want to choose values in a log-spaced grid (i.e. powers of 10). You can do this using numpy's $logspace$ function, e.g. $np.logspace(-6, 6, num = 10, base = 10)$.\n",
    "- Plot the MSE for each value, along with standard errors.\n",
    "\n",
    "It might help you to use the $cross_val_score$ function. The following code shows you how to use this function on a model/pipeline named 'model', for features called 'X' and labels called 'y', with a cross-validation object (e.g. created by KFold) called 'cv' and defining a 'scoring' function from the mean squared error:\n",
    "\n",
    "    from sklearn.model_selection import cross_val_score\n",
    "    from sklearn.metrics import mean_squared_error, make_scorer\n",
    "    cross_val_score(mode, X, y, cv=cv, scoring = make_scorer(mean_squared_error))\n",
    "\n",
    "This will return a numpy array with one error estimate for each fold of CV. You can then calculate the average (to get the overall CV estimate of MSE) or the standard error. Since you have 10 folds of CV, you will have 10 MSE estimates for each vale of the regularization parameter you pick. Calculate the standard error as $np.std(mses) / np.sqrt(mses.shape[0])$."
   ]
  },
  {
   "cell_type": "markdown",
   "id": "8202d181-5f4d-410e-b2cc-e1d6abb30d11",
   "metadata": {},
   "source": [
    "**Solution:**"
   ]
  },
  {
   "cell_type": "code",
   "execution_count": 27,
   "id": "b1be076d-19e6-4bc9-a42e-0f97b09921cb",
   "metadata": {},
   "outputs": [
    {
     "name": "stdout",
     "output_type": "stream",
     "text": [
      "[1.00000000e-06 4.28133240e-06 1.83298071e-05 7.84759970e-05\n",
      " 3.35981829e-04 1.43844989e-03 6.15848211e-03 2.63665090e-02\n",
      " 1.12883789e-01 4.83293024e-01 2.06913808e+00 8.85866790e+00\n",
      " 3.79269019e+01 1.62377674e+02 6.95192796e+02 2.97635144e+03\n",
      " 1.27427499e+04 5.45559478e+04 2.33572147e+05 1.00000000e+06]\n"
     ]
    }
   ],
   "source": [
    "# Let's select a range of 20 alphas\n",
    "alpha_values = np.logspace(-6, 6, num = 20, base = 10)\n",
    "\n",
    "# And, also check the values of alphas\n",
    "print(alpha_values)"
   ]
  },
  {
   "cell_type": "code",
   "execution_count": 28,
   "id": "f1248cae-2f71-4374-8fb5-7299cb772380",
   "metadata": {},
   "outputs": [],
   "source": [
    "# Now let's create the dictionaries to store the values\n",
    "mean_mse_ridge = []\n",
    "stderr_mse_ridge = []\n",
    "\n",
    "# Now let's loop through each vale of the alpha and perform the cross-validation\n",
    "for alpha in alpha_values:\n",
    "    ridge_pipeline = create_ridge_pipeline(alpha)\n",
    "    cv_scores = cross_val_score(ridge_pipeline, X_train, y_train, \n",
    "                                scoring='neg_mean_squared_error', cv=kf)\n",
    "    \n",
    "    # Convert scores to positive MSE values for reporting\n",
    "    mean_mse_ridge.append(-1 * np.mean(cv_scores))\n",
    "    # Standard error calculation for each alpha's MSE across folds\n",
    "    stderr_mse_ridge.append(np.std(cv_scores) / np.sqrt(len(cv_scores)))"
   ]
  },
  {
   "cell_type": "code",
   "execution_count": 29,
   "id": "ee80d13a-648b-4c7c-b6ce-bec4622c3c1a",
   "metadata": {},
   "outputs": [
    {
     "data": {
      "image/png": "[encoded data removed]",
      "text/plain": [
       "<Figure size 640x480 with 1 Axes>"
      ]
     },
     "metadata": {},
     "output_type": "display_data"
    }
   ],
   "source": [
    "# Let's plot the MSE for each value, along with the standard errors\n",
    "plt.errorbar(alpha_values, mean_mse_ridge, yerr=stderr_mse_ridge, fmt='-o', \n",
    "             color = 'green', ecolor = 'gray', capsize = 2)\n",
    "plt.xscale('log')\n",
    "plt.xlabel('Regularization strength (alpha)')\n",
    "plt.ylabel('Mean Squared Error (MSE)')\n",
    "plt.title('Ridge Regression: MSE vs. Regularization Strength')\n",
    "plt.tight_layout()\n",
    "plt.show()"
   ]
  },
  {
   "cell_type": "markdown",
   "id": "b3af7cc0-b81a-4429-ac70-379059b559e3",
   "metadata": {},
   "source": [
    "**Question 7:** Point out which value of the regularization parameter (and therefore which model) you would choose to use based on these results, using the one-standard-error rule we discussed in class."
   ]
  },
  {
   "cell_type": "markdown",
   "id": "ad28f82a-ae11-4fba-bc5c-64dd9fab4598",
   "metadata": {},
   "source": [
    "**Solution:**"
   ]
  },
  {
   "cell_type": "code",
   "execution_count": 30,
   "id": "be0e777a-5906-45aa-af88-30b7c3771b53",
   "metadata": {},
   "outputs": [
    {
     "name": "stdout",
     "output_type": "stream",
     "text": [
      "candidate_alphas [1e-06, 4.281332398719396e-06, 1.8329807108324375e-05, 7.847599703514606e-05, 0.0003359818286283781, 0.0014384498882876629, 0.00615848211066026, 0.026366508987303555, 0.11288378916846883, 0.4832930238571752, 2.06913808111479, 8.858667904100814, 37.92690190732246, 162.37767391887175, 695.1927961775591]\n",
      "Best alpha using the one-standard-error rule: 695.1927961775591\n"
     ]
    }
   ],
   "source": [
    "# Let's find the model with the lowest MSE\n",
    "min_mse_index = np.argmin(mean_mse_ridge)\n",
    "min_mse = mean_mse_ridge[min_mse_index]\n",
    "min_mse_stderr = stderr_mse_ridge[min_mse_index]\n",
    "\n",
    "# Let's apply the one-standard error rule\n",
    "within_one_std = min_mse + min_mse_stderr\n",
    "\n",
    "candidate_alphas = [alpha_values[i] for i, mse in enumerate(mean_mse_ridge) \n",
    "                    if mse <= within_one_std]\n",
    "\n",
    "best_alpha_ridge = max(candidate_alphas)\n",
    "\n",
    "print(\"candidate_alphas\",candidate_alphas)\n",
    "print(f\"Best alpha using the one-standard-error rule: {best_alpha_ridge}\")"
   ]
  },
  {
   "cell_type": "markdown",
   "id": "7d863d43-2adc-497f-9523-0b8f0582cb73",
   "metadata": {},
   "source": [
    "So, we'll pick a value for $\\alpha$ that's a little higher than 695. We'll do this by choosing the biggest $\\alpha$ that has an mean squared error close to the $\\alpha$ that has the lowest MSE, but within one standard error."
   ]
  },
  {
   "cell_type": "code",
   "execution_count": 31,
   "id": "d00f5b3b-b529-4485-9532-5cc882480806",
   "metadata": {},
   "outputs": [
    {
     "data": {
      "image/png": "[encoded data removed]",
      "text/plain": [
       "<Figure size 1000x600 with 1 Axes>"
      ]
     },
     "metadata": {},
     "output_type": "display_data"
    }
   ],
   "source": [
    "plt.figure(figsize=(10, 6))\n",
    "\n",
    "# Plotting MSE vs Alpha with standard error bars\n",
    "plt.errorbar(alpha_values, mean_mse_ridge, yerr=stderr_mse_ridge, fmt='-o', \n",
    "             ecolor='gray', capsize=5, capthick=2, label='MSE with Standard Errors')\n",
    "\n",
    "# Highlighting the best alpha according to the one-standard-error rule with a vertical line\n",
    "plt.axvline(x=best_alpha_ridge, color='red', linestyle='--', label=f'Best Alpha: {best_alpha_ridge}')\n",
    "\n",
    "# Adding a horizontal line for one standard error above the minimum MSE\n",
    "plt.axhline(y=within_one_std, color='green', linestyle='--', label='Min MSE + 1 Std Error')\n",
    "plt.xlabel('Regularization strength (alpha)')\n",
    "plt.ylabel('Mean Squared Error (MSE)')\n",
    "plt.xscale('log')  # Alpha values are on a logarithmic scale\n",
    "plt.title('MSE vs. Alpha for Ridge Regression with Standard Errors')\n",
    "plt.legend()\n",
    "\n",
    "plt.show()"
   ]
  },
  {
   "cell_type": "markdown",
   "id": "51e31a6e-68cb-4b93-b4b3-2f1559306e30",
   "metadata": {},
   "source": [
    "**Question 8:** Next create a new version of your function from Question 3 which replaces ridge regression with $KernelRidge$. You will need to add a second argument to the function as well to indicate the \"lengthscale\". This is the parameter that determines the width of the region near a test point which should have positive weight. To instantiate a Kernel Ridge Regression in scikit-learn, you'd do the following:\n",
    "\n",
    "    KernelRidge(alpha = 0.01, kernel = \"rbf\", gamma = 1)\n",
    "\n",
    "where the gamma denotes the lengthscale. For more context: scikit-learn uses some weird terminology, but it's all the same mechanics that we've talked about in class. An 'rbf' kernel (radial basis function kernel) is the same idea as a Gaussian kernel. The developers of scikit-learn define this RBF kernel to be $\\exp\\left(-\\gamma||x - x'||^2\\right)$. This is identical to a Gaussian kernel when $\\gamma = \\frac{1}{2\\sigma^2}$. This difference in how they encode the kernel means that a larger gamma parameter corresponds to a smaller region in which two points are considered similar. Contrast this to $\\sigma^2$, in which larger $\\sigma^2$ corresponds to a larger region of \"nearby\" points. The difference in terminology is confusing, but the main point is that there is a one to one mapping between values of gamma and values of $\\sigma^2$. We're going to search over a range of values of gamma to see what works best regardless, so it's primarily an issue of interpretation."
   ]
  },
  {
   "cell_type": "markdown",
   "id": "1bc30655-c281-4861-a1a9-02948ea59112",
   "metadata": {},
   "source": [
    "**Solution:**"
   ]
  },
  {
   "cell_type": "code",
   "execution_count": 32,
   "id": "38aa9eb3-a21c-49ac-abdc-6418764c05ea",
   "metadata": {},
   "outputs": [],
   "source": [
    "def create_kernel_ridge_pipeline(regularization_strength, lengthscale):\n",
    "    \"\"\"\n",
    "    Creates a pipeline that imputes missing data, standardizes the data, \n",
    "    and fits a KernelRidge model.\n",
    "    \n",
    "    Parameters:\n",
    "    - regularization_strength: The regularization strength (alpha) for Ridge Regression.\n",
    "    - lengthscale: It determines the width of the region near a test point which should have positive weight\n",
    "    \n",
    "    Returns:\n",
    "    - A scikit-learn pipeline object that can be used to fit data and make predictions.\n",
    "    \"\"\"\n",
    "    return make_pipeline(\n",
    "        SimpleImputer(missing_values = np.nan, strategy='most_frequent'),\n",
    "        StandardScaler(),\n",
    "        KernelRidge(alpha = regularization_strength, kernel = \"rbf\", gamma = lengthscale)\n",
    "    )"
   ]
  },
  {
   "cell_type": "markdown",
   "id": "0c0f68f2-f1e6-4d7f-a512-d140feacb6da",
   "metadata": {},
   "source": [
    "**Question 9:** Find the cross-validated MSE for a range of values of gamma, e.g. 10 values between $10^{-7}$ and $10^{-1}$ (again, on a log-space grid). Do this for one fixed level of the regularization parameter. You can set $alpha = 0.1$ or whatever you found optimal for ridge regression in Question 7."
   ]
  },
  {
   "cell_type": "markdown",
   "id": "496f1735-bd8f-4eda-97b2-56588d6294e4",
   "metadata": {},
   "source": [
    "**Solution:**"
   ]
  },
  {
   "cell_type": "code",
   "execution_count": 33,
   "id": "8c66fb8e-5dae-4fe8-8b37-9ece30b16a84",
   "metadata": {},
   "outputs": [],
   "source": [
    "# Let's define the range of gamma values\n",
    "gamma_values = np.logspace(-7, -1, num = 10)\n",
    "\n",
    "# Now, let's create the disctionaries to store the values\n",
    "mean_mse_kernel = []\n",
    "stderr_mse_kernel = []\n",
    "\n",
    "# Let's use the optimal aplha found previously\n",
    "optimal_alpha = best_alpha_ridge\n",
    "\n",
    "for gamma in gamma_values:\n",
    "    # First create the pipeline with the current gamma and optimal alpha\n",
    "    kernel_pipeline = create_kernel_ridge_pipeline(optimal_alpha, gamma)\n",
    "    \n",
    "    # Let's perform the cross-validation\n",
    "    cv_scores = cross_val_score(kernel_pipeline, X_train, y_train, \n",
    "                                scoring = \"neg_mean_squared_error\", cv=10)\n",
    "    \n",
    "    # Finally let's convert scores to positive MSE values and compute the statistics\n",
    "    mean_mse_kernel.append(-1 * np.mean(cv_scores))\n",
    "    stderr_mse_kernel.append(np.std(cv_scores) / np.sqrt(len(cv_scores)))"
   ]
  },
  {
   "cell_type": "code",
   "execution_count": 34,
   "id": "ec0504e0-5ee1-4796-9218-7fa0b8bab2a6",
   "metadata": {},
   "outputs": [
    {
     "data": {
      "image/png": "[encoded data removed]",
      "text/plain": [
       "<Figure size 1000x600 with 1 Axes>"
      ]
     },
     "metadata": {},
     "output_type": "display_data"
    }
   ],
   "source": [
    "plt.figure(figsize=(10, 6))\n",
    "plt.errorbar(gamma_values, mean_mse_kernel, yerr=stderr_mse_kernel, fmt='-o', \n",
    "             ecolor='gray', elinewidth=3, capsize=5, capthick=2, label='MSE with Standard Errors')\n",
    "plt.xscale('log')\n",
    "plt.xlabel('Gamma')\n",
    "plt.ylabel('Mean Squared Error')\n",
    "plt.title('Kernel Ridge Regression: MSE vs. Gamma')\n",
    "plt.show()"
   ]
  },
  {
   "cell_type": "code",
   "execution_count": 36,
   "id": "de2a9a00-f56b-4fe9-b1d4-f65c4189ffc1",
   "metadata": {},
   "outputs": [
    {
     "name": "stdout",
     "output_type": "stream",
     "text": [
      "Candidate gammas within one standard error of the minimum MSE: [1e-07, 4.641588833612782e-07, 2.1544346900318822e-06, 1e-05, 4.641588833612772e-05, 0.00021544346900318823, 0.001]\n",
      "Best gamma using the one-standard-error rule: 0.001\n",
      "537.6557443007832\n",
      "17.03390043125213\n"
     ]
    }
   ],
   "source": [
    "# Let's find the model with the lowest MSE\n",
    "min_mse_index_kernel = np.argmin(mean_mse_kernel)\n",
    "min_mse_kernel = mean_mse_kernel[min_mse_index_kernel]\n",
    "min_mse_stderr_kernel = stderr_mse_kernel[min_mse_index_kernel]\n",
    "\n",
    "# Let's apply the one-standard error rule\n",
    "within_one_std_kernel = min_mse_kernel + min_mse_stderr_kernel\n",
    "\n",
    "candidate_gammas = [gamma_values[i] for i, mse in enumerate(mean_mse_kernel) \n",
    "                    if mse <= within_one_std_kernel]\n",
    "\n",
    "best_gamma_kernel = max(candidate_gammas)\n",
    "\n",
    "print(\"Candidate gammas within one standard error of the minimum MSE:\",candidate_gammas)\n",
    "print(f\"Best gamma using the one-standard-error rule: {best_gamma_kernel}\")\n",
    "\n",
    "print(min_mse_kernel)\n",
    "print(min_mse_stderr_kernel)"
   ]
  },
  {
   "cell_type": "code",
   "execution_count": 37,
   "id": "9b0c7dea-d5a7-4c3b-bc82-d63a8d866111",
   "metadata": {},
   "outputs": [
    {
     "data": {
      "image/png": "[encoded data removed]",
      "text/plain": [
       "<Figure size 1000x600 with 1 Axes>"
      ]
     },
     "metadata": {},
     "output_type": "display_data"
    }
   ],
   "source": [
    "plt.figure(figsize=(10, 6))\n",
    "\n",
    "# Plotting MSE vs Gamma with standard error bars for Kernel Ridge Regression\n",
    "plt.errorbar(gamma_values, mean_mse_kernel, yerr=stderr_mse_kernel, fmt='-o', \n",
    "             ecolor='gray', capsize=5, capthick=2, label='MSE with Standard Errors')\n",
    "\n",
    "# Highlighting the best gamma according to the one-standard-error rule with a vertical line\n",
    "plt.axvline(x=best_gamma_kernel, color='red', linestyle='--', label=f'Best Gamma: {best_gamma_kernel}')\n",
    "\n",
    "# Adding a horizontal line for one standard error above the minimum MSE for Kernel Ridge\n",
    "min_mse_plus_se_kernel = min_mse_kernel + min_mse_stderr_kernel \n",
    "plt.axhline(y=min_mse_plus_se_kernel, color='green', linestyle='--', label='Min MSE + 1 Std Error')\n",
    "\n",
    "plt.xlabel('Gamma')\n",
    "plt.ylabel('Mean Squared Error')\n",
    "plt.xscale('log')  # Gamma values are on a logarithmic scale\n",
    "plt.title('MSE vs. Gamma for Kernel Ridge Regression with Standard Errors')\n",
    "plt.legend(loc='best')\n",
    "\n",
    "plt.show()"
   ]
  },
  {
   "cell_type": "markdown",
   "id": "4ccd11a1-2741-46a3-a052-9cea5da881e4",
   "metadata": {},
   "source": [
    "**Question 10:** Calclulate the error in the test set for both your best $Ridge$ and $KernelRidge$ model. Which is better?"
   ]
  },
  {
   "cell_type": "markdown",
   "id": "5afcf179-97d1-473f-86ca-be69a8b38973",
   "metadata": {},
   "source": [
    "**Solution:**"
   ]
  },
  {
   "cell_type": "code",
   "execution_count": 38,
   "id": "035bfea1-c8cd-41fd-895d-3ca3ea490f54",
   "metadata": {},
   "outputs": [
    {
     "name": "stdout",
     "output_type": "stream",
     "text": [
      "Ridge MSE: 194.62256032466283\n",
      "KernelRidge MSE: 517.5722277069775\n",
      "Ridge model performs better on the test set.\n"
     ]
    }
   ],
   "source": [
    "# Let's train the Ridge model with the best alpha\n",
    "ridge_model = create_ridge_pipeline(best_alpha_ridge).fit(X_train, y_train)\n",
    "\n",
    "# Now, let's train the KernelRidge model with the best alpha and gamma\n",
    "kernel_ridge_model = create_kernel_ridge_pipeline(optimal_alpha, best_gamma_kernel).fit(X_train, y_train)\n",
    "\n",
    "# Let's predict and calculate MSE for Ridge\n",
    "ridge_predictions = ridge_model.predict(X_test)\n",
    "ridge_mse = mean_squared_error(y_test, ridge_predictions)\n",
    "\n",
    "# And now, let's predict and calculate MSE for KernelRidge\n",
    "kernel_ridge_predictions = kernel_ridge_model.predict(X_test)\n",
    "kernel_ridge_mse = mean_squared_error(y_test, kernel_ridge_predictions)\n",
    "\n",
    "print(f\"Ridge MSE: {ridge_mse}\")\n",
    "print(f\"KernelRidge MSE: {kernel_ridge_mse}\")\n",
    "\n",
    "# Finally, let's determine which model is better\n",
    "if ridge_mse < kernel_ridge_mse:\n",
    "    print(\"Ridge model performs better on the test set.\")\n",
    "else:\n",
    "    print(\"KernelRidge model performs better on the test set.\")"
   ]
  },
  {
   "cell_type": "markdown",
   "id": "c93db9f3-001c-403f-8d91-dac5520698e8",
   "metadata": {},
   "source": [
    "**Question 11:** It turns out that the way that students were assigned to treatment was not actually i.i.d. Rather, the *high school* was assigned into treatment. This was done out of a concern that the outcomes between students might be correlated within schools.\n",
    "\n",
    "Using this fact, and what we talked about at the beginning of lecture 4 about reasons we might want to split data into folds for cross-validation differently than a naive, completely random split, what might you do differently in the cross-validation process to account for this dependency structure? You don't need to actually do it, just describe what you would do differently."
   ]
  },
  {
   "cell_type": "markdown",
   "id": "060bd54f-4d15-4807-b90e-000bd932cc3d",
   "metadata": {},
   "source": [
    "**Solution:**"
   ]
  },
  {
   "cell_type": "markdown",
   "id": "2be0c586-0d2c-4cec-b803-5097227805d9",
   "metadata": {},
   "source": [
    "To address the issue of students being grouped by high school, which can affect the outcomes, I would use a grouped cross-validation approach, such as Scikit-learn's **GroupKFold**. This ensures that all students from the same school are assigned to either the training set or the validation set, but not split across both."
   ]
  },
  {
   "cell_type": "markdown",
   "id": "63eeaf65-3e57-4360-a10c-9768ab68cf92",
   "metadata": {},
   "source": [
    "***Note to the Prof:*** I used the lab 6 notes and ChatGPT for understanding and implementing some parts of this assignment."
   ]
  }
 ],
 "metadata": {
  "kernelspec": {
   "display_name": "Python 3 (ipykernel)",
   "language": "python",
   "name": "python3"
  },
  "language_info": {
   "codemirror_mode": {
    "name": "ipython",
    "version": 3
   },
   "file_extension": ".py",
   "mimetype": "text/x-python",
   "name": "python",
   "nbconvert_exporter": "python",
   "pygments_lexer": "ipython3",
   "version": "3.12.1"
  }
 },
 "nbformat": 4,
 "nbformat_minor": 5
}
